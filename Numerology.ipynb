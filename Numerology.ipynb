{
 "cells": [
  {
   "cell_type": "markdown",
   "id": "animated-canvas",
   "metadata": {},
   "source": [
    "# Part 0: Numerology constants"
   ]
  },
  {
   "cell_type": "code",
   "execution_count": 1,
   "id": "compliant-crash",
   "metadata": {},
   "outputs": [],
   "source": [
    "# Personality constants\n",
    "PERSONALITY_X1_LACK = \"A person that is impractical and disorderly\" \n",
    "PERSONALITY_X2_LACK = \"A person with weak psyche who is highly sensitive and vulnerable\"\n",
    "PERSONALITY_X3_LACK = \"A person with poor mind and a bad memory\"\n",
    "PERSONALITY_Y1_LACK = \"A person who is directionless and is incapable of planning\"\n",
    "PERSONALITY_Y2_LACK = \"A person who is resentful of life because he/she lacks the will to overcome obstables\"\n",
    "PERSONALITY_Y3_LACK = \"A lazy and passive person\"\n",
    "PERSONALITY_Z1_LACK = \"A tardy person who tends to procrastinate a lot\"\n",
    "PERSONALITY_Z2_LACK = \"A critic who is always doubtful of everything\"\n",
    "\n",
    "PERSONALITY_X1_FULL = \"A healthy person who is highly realistic and only believe what he/she sees for himself/herself\"\n",
    "PERSONALITY_X2_FULL = \"A person who knows how to balance his/her emotions\"\n",
    "PERSONALITY_X3_FULL = \"A person blessed with a sharp mind and a good memory\"\n",
    "PERSONALITY_Y1_FULL = \"An excellent planner\"\n",
    "PERSONALITY_Y2_FULL = \"A person with strong will who can overcome obstacles\"\n",
    "PERSONALITY_Y3_FULL = \"A proactive event organizer\"\n",
    "PERSONALITY_Z1_FULL = \"A highly determined person who always achieves his/her goals\"\n",
    "PERSONALITY_Z2_FULL = \"A person who has sharp spiritual senses\"\n",
    "\n",
    "ALL_PERSONALITY = [\n",
    "    PERSONALITY_X1_LACK,\n",
    "    PERSONALITY_X2_LACK,\n",
    "    PERSONALITY_X3_LACK,\n",
    "    PERSONALITY_Y1_LACK,\n",
    "    PERSONALITY_Y2_LACK,\n",
    "    PERSONALITY_Y3_LACK,\n",
    "    PERSONALITY_Z1_LACK,\n",
    "    PERSONALITY_Z2_LACK,\n",
    "    \n",
    "    PERSONALITY_X1_FULL,\n",
    "    PERSONALITY_X2_FULL,\n",
    "    PERSONALITY_X3_FULL,\n",
    "    PERSONALITY_Y1_FULL,\n",
    "    PERSONALITY_Y2_FULL,\n",
    "    PERSONALITY_Y3_FULL,\n",
    "    PERSONALITY_Z1_FULL,\n",
    "    PERSONALITY_Z2_FULL\n",
    "]"
   ]
  },
  {
   "cell_type": "code",
   "execution_count": 2,
   "id": "chronic-interstate",
   "metadata": {},
   "outputs": [],
   "source": [
    "MASTER_NUMBER_1 = \"\"\n",
    "MASTER_NUMBER_2 = \"\"\n",
    "MASTER_NUMBER_3 = \"\"\n",
    "MASTER_NUMBER_4 = \"\"\n",
    "MASTER_NUMBER_5 = \"\"\n",
    "MASTER_NUMBER_6 = \"A highly creative person. Born to make the world more beautiful and help people connect with one another through various forms of art.\"\n",
    "MASTER_NUMBER_7 = \"\"\n",
    "MASTER_NUMBER_8 = \"\"\n",
    "MASTER_NUMBER_9 = \"A person with a lot of ideals, dreams, and responsibilities. Born to take charge of their surroundings and make it a better place.\"\n",
    "MASTER_NUMBER_10 = \"A person who can do anything and adapt to any situation. Born to inpire the world with the power of free will.\"\n",
    "MASTER_NUMBER_11 = \"A person born for spirituality. Usually have a difficult life because the world doesn't offer Spiritual jobs and they have to make their own.\"\n",
    "\n",
    "ALL_MASTER_NUMBER = [\n",
    "    MASTER_NUMBER_1,\n",
    "    MASTER_NUMBER_2,\n",
    "    MASTER_NUMBER_3,\n",
    "    MASTER_NUMBER_4,\n",
    "    MASTER_NUMBER_5,\n",
    "    MASTER_NUMBER_6,\n",
    "    MASTER_NUMBER_7,\n",
    "    MASTER_NUMBER_8,\n",
    "    MASTER_NUMBER_9,\n",
    "    MASTER_NUMBER_10,\n",
    "    MASTER_NUMBER_11\n",
    "]"
   ]
  },
  {
   "cell_type": "code",
   "execution_count": 3,
   "id": "acute-cricket",
   "metadata": {},
   "outputs": [],
   "source": [
    "PEAK_NUMBER_1 = \"You have to suffer great losses to resolve your past karma\"\n",
    "PEAK_NUMBER_2 = \"Incidents shall force you to become more intuitive and spiritual\"\n",
    "PEAK_NUMBER_3 = \"You shall be pushed to learn something of great value to yourself\"\n",
    "PEAK_NUMBER_4 = \"Your hard work shall be repaid in kind\"\n",
    "PEAK_NUMBER_5 = \"Incidents shall open up your mind. Additionally, your finances shall be at least ok.\"\n",
    "PEAK_NUMBER_6 = \"You shall reach the peak of creativity and may be able to reap rewards for your work\"\n",
    "PEAK_NUMBER_7 = \"You have to suffer great losses to learn valuable lessons\"\n",
    "PEAK_NUMBER_8 = \"Incidents shall force you to become independent\"\n",
    "PEAK_NUMBER_9 = \"Your inner calling shall prompt you to contribute to the community.\"\n",
    "PEAK_NUMBER_10 = \"You must help others based on your capability (master number)\"\n",
    "PEAK_NUMBER_11 = \"You must perform major events that uplift the spirituality of mankind.\"\n",
    "\n",
    "ALL_PEAK_NUMBER = [\n",
    "    PEAK_NUMBER_1,\n",
    "    PEAK_NUMBER_2,\n",
    "    PEAK_NUMBER_3,\n",
    "    PEAK_NUMBER_4,\n",
    "    PEAK_NUMBER_5,\n",
    "    PEAK_NUMBER_6,\n",
    "    PEAK_NUMBER_7,\n",
    "    PEAK_NUMBER_8,\n",
    "    PEAK_NUMBER_9,\n",
    "    PEAK_NUMBER_10,\n",
    "    PEAK_NUMBER_11\n",
    "]"
   ]
  },
  {
   "cell_type": "code",
   "execution_count": 4,
   "id": "metropolitan-sunglasses",
   "metadata": {},
   "outputs": [],
   "source": [
    "PERSONAL_YEAR_1 = \"The year of adapting to previous changes. A major peak.\"\n",
    "PERSONAL_YEAR_2 = \"The year of developing intuitive and spirituality. Should be used to meditate.\"\n",
    "PERSONAL_YEAR_3 = \"The year of learning and opening up the mind\"\n",
    "PERSONAL_YEAR_4 = \"The year of rest and recharge. Don't do anything big here, just reflect on yourself.\"\n",
    "PERSONAL_YEAR_5 = \"The year of freedom and action\"\n",
    "PERSONAL_YEAR_6 = \"The year of creativity and love. A mini peak.\"\n",
    "PERSONAL_YEAR_7 = \"The year of rest, recharge, and overcoming obstacles\"\n",
    "PERSONAL_YEAR_8 = \"The year of action and financial-independence\"\n",
    "PERSONAL_YEAR_9 = \"The year of innovations and changes. A major peak.\"\n",
    "\n",
    "ALL_PERSONAL_YEAR = [\n",
    "    PERSONAL_YEAR_1,\n",
    "    PERSONAL_YEAR_2,\n",
    "    PERSONAL_YEAR_3,\n",
    "    PERSONAL_YEAR_4,\n",
    "    PERSONAL_YEAR_5,\n",
    "    PERSONAL_YEAR_6,\n",
    "    PERSONAL_YEAR_7,\n",
    "    PERSONAL_YEAR_8,\n",
    "    PERSONAL_YEAR_9\n",
    "]"
   ]
  },
  {
   "cell_type": "code",
   "execution_count": 5,
   "id": "threatened-overhead",
   "metadata": {},
   "outputs": [],
   "source": [
    "def get_word_number(number, upper_limit):\n",
    "    while number > upper_limit:\n",
    "        number = number//10 + number%10\n",
    "    return number"
   ]
  },
  {
   "cell_type": "markdown",
   "id": "smooth-exchange",
   "metadata": {},
   "source": [
    "# Part 1: Master number & personal strength"
   ]
  },
  {
   "cell_type": "code",
   "execution_count": 6,
   "id": "civic-puppy",
   "metadata": {},
   "outputs": [
    {
     "data": {
      "text/plain": [
       "'20-11-1998'"
      ]
     },
     "execution_count": 6,
     "metadata": {},
     "output_type": "execute_result"
    }
   ],
   "source": [
    "date_of_birth = \"20-11-1998\"\n",
    "date_of_birth"
   ]
  },
  {
   "cell_type": "code",
   "execution_count": 7,
   "id": "broken-pastor",
   "metadata": {},
   "outputs": [
    {
     "data": {
      "text/plain": [
       "4"
      ]
     },
     "execution_count": 7,
     "metadata": {},
     "output_type": "execute_result"
    }
   ],
   "source": [
    "master_number = 0\n",
    "for num in date_of_birth.replace(\"-\", \"\"):\n",
    "    master_number += int(num)\n",
    "\n",
    "master_number = get_word_number(master_number, 11)\n",
    "master_number"
   ]
  },
  {
   "cell_type": "code",
   "execution_count": 8,
   "id": "hidden-workshop",
   "metadata": {},
   "outputs": [
    {
     "name": "stdout",
     "output_type": "stream",
     "text": [
      "Master number = 4\n",
      "\n"
     ]
    }
   ],
   "source": [
    "print(f\"Master number = {master_number}\\n{ALL_MASTER_NUMBER[master_number - 1]}\")"
   ]
  },
  {
   "cell_type": "markdown",
   "id": "comparative-flashing",
   "metadata": {},
   "source": [
    "# Part 2: Core Personality based on birthdate"
   ]
  },
  {
   "cell_type": "code",
   "execution_count": 9,
   "id": "strong-string",
   "metadata": {},
   "outputs": [
    {
     "data": {
      "text/plain": [
       "Counter({'2': 1, '0': 1, '-': 2, '1': 3, '9': 2, '8': 1})"
      ]
     },
     "execution_count": 9,
     "metadata": {},
     "output_type": "execute_result"
    }
   ],
   "source": [
    "import collections\n",
    "number_count = collections.Counter()\n",
    "number_count.update(date_of_birth)\n",
    "\n",
    "number_count"
   ]
  },
  {
   "cell_type": "code",
   "execution_count": 10,
   "id": "social-commonwealth",
   "metadata": {
    "scrolled": true
   },
   "outputs": [
    {
     "name": "stdout",
     "output_type": "stream",
     "text": [
      "A person who is resentful of life because he/she lacks the will to overcome obstables\n",
      "A critic who is always doubtful of everything\n"
     ]
    }
   ],
   "source": [
    "if (\"1\" not in number_count) and (\"4\" not in number_count) and (\"7\" not in number_count): print(ALL_PERSONALITY[0])\n",
    "if (\"2\" not in number_count) and (\"5\" not in number_count) and (\"8\" not in number_count): print(ALL_PERSONALITY[1])\n",
    "if (\"3\" not in number_count) and (\"6\" not in number_count) and (\"9\" not in number_count): print(ALL_PERSONALITY[2])\n",
    "if (\"1\" not in number_count) and (\"2\" not in number_count) and (\"3\" not in number_count): print(ALL_PERSONALITY[3])\n",
    "if (\"4\" not in number_count) and (\"5\" not in number_count) and (\"6\" not in number_count): print(ALL_PERSONALITY[4])\n",
    "if (\"7\" not in number_count) and (\"8\" not in number_count) and (\"9\" not in number_count): print(ALL_PERSONALITY[5])\n",
    "if (\"1\" not in number_count) and (\"5\" not in number_count) and (\"9\" not in number_count): print(ALL_PERSONALITY[6])\n",
    "if (\"3\" not in number_count) and (\"5\" not in number_count) and (\"7\" not in number_count): print(ALL_PERSONALITY[7])\n",
    "\n",
    "if (\"1\" in number_count) and (\"4\" in number_count) and (\"7\" in number_count): print(ALL_PERSONALITY[8])\n",
    "if (\"2\" in number_count) and (\"5\" in number_count) and (\"8\" in number_count): print(ALL_PERSONALITY[9])\n",
    "if (\"3\" in number_count) and (\"6\" in number_count) and (\"9\" in number_count): print(ALL_PERSONALITY[10])\n",
    "if (\"1\" in number_count) and (\"2\" in number_count) and (\"3\" in number_count): print(ALL_PERSONALITY[11])\n",
    "if (\"4\" in number_count) and (\"5\" in number_count) and (\"6\" in number_count): print(ALL_PERSONALITY[12])\n",
    "if (\"7\" in number_count) and (\"8\" in number_count) and (\"9\" in number_count): print(ALL_PERSONALITY[13])\n",
    "if (\"1\" in number_count) and (\"5\" in number_count) and (\"9\" in number_count): print(ALL_PERSONALITY[14])\n",
    "if (\"3\" in number_count) and (\"5\" in number_count) and (\"7\" in number_count): print(ALL_PERSONALITY[15])"
   ]
  },
  {
   "cell_type": "markdown",
   "id": "useful-computer",
   "metadata": {},
   "source": [
    "# Part 3: Extended personality based on First Name/Nickname"
   ]
  },
  {
   "cell_type": "code",
   "execution_count": 11,
   "id": "communist-xerox",
   "metadata": {},
   "outputs": [
    {
     "ename": "NameError",
     "evalue": "name 'month' is not defined",
     "output_type": "error",
     "traceback": [
      "\u001b[0;31m---------------------------------------------------------------------------\u001b[0m",
      "\u001b[0;31mNameError\u001b[0m                                 Traceback (most recent call last)",
      "\u001b[0;32m<ipython-input-11-4f1134d5d7d2>\u001b[0m in \u001b[0;36m<module>\u001b[0;34m\u001b[0m\n\u001b[0;32m----> 1\u001b[0;31m \u001b[0mmonth\u001b[0m\u001b[0;34m\u001b[0m\u001b[0;34m\u001b[0m\u001b[0m\n\u001b[0m",
      "\u001b[0;31mNameError\u001b[0m: name 'month' is not defined"
     ]
    }
   ],
   "source": [
    "month "
   ]
  },
  {
   "cell_type": "markdown",
   "id": "orange-window",
   "metadata": {},
   "source": [
    "# Part 4: Life peaks and mission in life"
   ]
  },
  {
   "cell_type": "code",
   "execution_count": 12,
   "id": "whole-immigration",
   "metadata": {
    "scrolled": true
   },
   "outputs": [
    {
     "name": "stdout",
     "output_type": "stream",
     "text": [
      "20 11 1998\n"
     ]
    }
   ],
   "source": [
    "[day, month, year] = date_of_birth.split(\"-\")\n",
    "[day, month, year] = [int(day), int(month), int(year)]\n",
    "\n",
    "print(day, month, year)"
   ]
  },
  {
   "cell_type": "code",
   "execution_count": 13,
   "id": "private-blame",
   "metadata": {},
   "outputs": [
    {
     "name": "stdout",
     "output_type": "stream",
     "text": [
      "2 2 9\n"
     ]
    }
   ],
   "source": [
    "day = get_word_number(day, 9)\n",
    "month = get_word_number(month, 9)\n",
    "year = get_word_number(year, 9)\n",
    "    \n",
    "print(day, month, year)"
   ]
  },
  {
   "cell_type": "code",
   "execution_count": 14,
   "id": "searching-royal",
   "metadata": {},
   "outputs": [],
   "source": [
    "peak_1_number = get_word_number(month + day, 9)\n",
    "peak_2_number = get_word_number(year + day, 9)\n",
    "peak_3_number = get_word_number(peak_1_number + peak_2_number, 11)\n",
    "peak_4_number = get_word_number(month + year, 11)"
   ]
  },
  {
   "cell_type": "code",
   "execution_count": 15,
   "id": "adjacent-barrel",
   "metadata": {},
   "outputs": [],
   "source": [
    "peak_1_age = 36 - master_number\n",
    "peak_2_age = peak_1_age + 9\n",
    "peak_3_age = peak_2_age + 9\n",
    "peak_4_age = peak_3_age + 9"
   ]
  },
  {
   "cell_type": "code",
   "execution_count": 17,
   "id": "identical-journal",
   "metadata": {},
   "outputs": [
    {
     "name": "stdout",
     "output_type": "stream",
     "text": [
      "Peak 1 at 32 years old: number 4 - Your hard work shall be repaid in kind\n",
      "Peak 2 at 41 years old: number 2 - Incidents shall force you to become more intuitive and spiritual\n",
      "Peak 3 at 50 years old: number 6 - You shall reach the peak of creativity and may be able to reap rewards for your work\n",
      "Peak 4 at 59 years old: number 11 - You must perform major events that uplift the spirituality of mankind.\n"
     ]
    }
   ],
   "source": [
    "print(f\"Peak 1 at {peak_1_age} years old: number {peak_1_number} - {ALL_PEAK_NUMBER[peak_1_number - 1]}\")\n",
    "print(f\"Peak 2 at {peak_2_age} years old: number {peak_2_number} - {ALL_PEAK_NUMBER[peak_2_number - 1]}\")\n",
    "print(f\"Peak 3 at {peak_3_age} years old: number {peak_3_number} - {ALL_PEAK_NUMBER[peak_3_number - 1]}\")\n",
    "print(f\"Peak 4 at {peak_4_age} years old: number {peak_4_number} - {ALL_PEAK_NUMBER[peak_4_number - 1]}\")"
   ]
  },
  {
   "cell_type": "markdown",
   "id": "decreased-german",
   "metadata": {},
   "source": [
    "# Part 5: Advice for current year"
   ]
  },
  {
   "cell_type": "code",
   "execution_count": 18,
   "id": "combined-promotion",
   "metadata": {},
   "outputs": [
    {
     "data": {
      "text/plain": [
       "2022"
      ]
     },
     "execution_count": 18,
     "metadata": {},
     "output_type": "execute_result"
    }
   ],
   "source": [
    "import datetime\n",
    "currentYear = datetime.datetime.today().year\n",
    "\n",
    "currentYear"
   ]
  },
  {
   "cell_type": "code",
   "execution_count": 19,
   "id": "prepared-recording",
   "metadata": {},
   "outputs": [
    {
     "data": {
      "text/plain": [
       "6"
      ]
     },
     "execution_count": 19,
     "metadata": {},
     "output_type": "execute_result"
    }
   ],
   "source": [
    "currentYear = get_word_number(currentYear, 9)\n",
    "currentYear"
   ]
  },
  {
   "cell_type": "code",
   "execution_count": 20,
   "id": "formed-bankruptcy",
   "metadata": {},
   "outputs": [
    {
     "name": "stdout",
     "output_type": "stream",
     "text": [
      "The year of adapting to previous changes. A major peak.\n"
     ]
    }
   ],
   "source": [
    "personal_year = get_word_number(currentYear + day + month, 9)\n",
    "print(ALL_PERSONAL_YEAR[personal_year - 1])"
   ]
  },
  {
   "cell_type": "code",
   "execution_count": null,
   "id": "institutional-terminology",
   "metadata": {},
   "outputs": [],
   "source": []
  }
 ],
 "metadata": {
  "kernelspec": {
   "display_name": "Python 3",
   "language": "python",
   "name": "python3"
  },
  "language_info": {
   "codemirror_mode": {
    "name": "ipython",
    "version": 3
   },
   "file_extension": ".py",
   "mimetype": "text/x-python",
   "name": "python",
   "nbconvert_exporter": "python",
   "pygments_lexer": "ipython3",
   "version": "3.9.9"
  },
  "varInspector": {
   "cols": {
    "lenName": 16,
    "lenType": 16,
    "lenVar": 40
   },
   "kernels_config": {
    "python": {
     "delete_cmd_postfix": "",
     "delete_cmd_prefix": "del ",
     "library": "var_list.py",
     "varRefreshCmd": "print(var_dic_list())"
    },
    "r": {
     "delete_cmd_postfix": ") ",
     "delete_cmd_prefix": "rm(",
     "library": "var_list.r",
     "varRefreshCmd": "cat(var_dic_list()) "
    }
   },
   "types_to_exclude": [
    "module",
    "function",
    "builtin_function_or_method",
    "instance",
    "_Feature"
   ],
   "window_display": false
  }
 },
 "nbformat": 4,
 "nbformat_minor": 5
}
